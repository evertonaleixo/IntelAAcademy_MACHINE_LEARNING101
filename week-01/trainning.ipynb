{
 "cells": [
  {
   "cell_type": "markdown",
   "metadata": {},
   "source": [
    "In this week of course, is presented the basic needs in machine learning.\n",
    "We look at Jupyter as enviroment to work with python. Also looks at:\n",
    " \n",
    " * Pandas -- Framework to work with data in tabular way;\n",
    " * Matplotlib and Seaborn -- To create graphics and statistics analyses"
   ]
  },
  {
   "cell_type": "markdown",
   "metadata": {},
   "source": [
    "Nesta semana do curso, é apresentado o básico necessário para machine learning.\n",
    "Nós vimos o Jupyter como ambiente de trabalho com python. Também vimos:\n",
    " * Pandas -- Framework para trabalhar com dados tabulares;\n",
    " * Matplotlib e Seaborn -- Para criar gráficos e fazer análises estatísticas"
   ]
  },
  {
   "cell_type": "markdown",
   "metadata": {},
   "source": [
    " # Studing code (Estudando os códigos)\n",
    " \n",
    " * Understaning Series in Pandas. Series are 1-Dimension Vector\n",
    " * Entendendo Series em Pandas. Series são vetores de uma única dimensão."
   ]
  },
  {
   "cell_type": "code",
   "execution_count": 7,
   "metadata": {},
   "outputs": [
    {
     "name": "stdout",
     "output_type": "stream",
     "text": [
      "0    3620\n",
      "1    7891\n",
      "2    9761\n",
      "3    3907\n",
      "4    4338\n",
      "5    5373\n",
      "Name: steps, dtype: int64\n"
     ]
    }
   ],
   "source": [
    "import pandas as pd\n",
    "\n",
    "step_data = [3620, 7891, 9761, 3907, 4338, 5373]\n",
    "step_counts = pd.Series(step_data, name='steps')\n",
    "\n",
    "print(step_counts)"
   ]
  },
  {
   "cell_type": "code",
   "execution_count": null,
   "metadata": {},
   "outputs": [],
   "source": []
  }
 ],
 "metadata": {
  "kernelspec": {
   "display_name": "Python 3",
   "language": "python",
   "name": "python3"
  },
  "language_info": {
   "codemirror_mode": {
    "name": "ipython",
    "version": 3
   },
   "file_extension": ".py",
   "mimetype": "text/x-python",
   "name": "python",
   "nbconvert_exporter": "python",
   "pygments_lexer": "ipython3",
   "version": "3.5.2"
  }
 },
 "nbformat": 4,
 "nbformat_minor": 2
}
