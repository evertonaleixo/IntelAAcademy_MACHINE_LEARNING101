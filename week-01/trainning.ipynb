{
 "cells": [
  {
   "cell_type": "markdown",
   "metadata": {},
   "source": [
    "In this week of course, is presented the basic needs in machine learning.\n",
    "We look at Jupyter as enviroment to work with python. Also looks at:\n",
    " \n",
    " * Pandas -- Framework to work with data in tabular way;\n",
    " * Matplotlib and Seaborn -- To create graphics and statistics analyses"
   ]
  },
  {
   "cell_type": "markdown",
   "metadata": {},
   "source": [
    "Nesta semana do curso, é apresentado o básico necessário para machine learning.\n",
    "Nós vimos o Jupyter como ambiente de trabalho com python. Também vimos:\n",
    " * Pandas -- Framework para trabalhar com dados tabulares;\n",
    " * Matplotlib e Seaborn -- Para criar gráficos e fazer análises estatísticas"
   ]
  },
  {
   "cell_type": "markdown",
   "metadata": {},
   "source": [
    " # Studing code (Estudando os códigos)\n",
    " \n",
    " * Understaning Series in Pandas. Series are 1-Dimension Vector\n",
    " * Entendendo Series em Pandas. Series são vetores de uma única dimensão."
   ]
  },
  {
   "cell_type": "code",
   "execution_count": 10,
   "metadata": {},
   "outputs": [],
   "source": [
    "import pandas as pd\n",
    "\n",
    "step_data = [3620, 7891, 9761, 3907, 4338, 5373]"
   ]
  },
  {
   "cell_type": "code",
   "execution_count": 16,
   "metadata": {},
   "outputs": [
    {
     "name": "stdout",
     "output_type": "stream",
     "text": [
      "0    3620\n",
      "1    7891\n",
      "2    9761\n",
      "3    3907\n",
      "4    4338\n",
      "5    5373\n",
      "Name: steps, dtype: int64\n"
     ]
    }
   ],
   "source": [
    "step_counts = pd.Series(step_data, name='steps')\n",
    "\n",
    "print(step_counts)"
   ]
  },
  {
   "cell_type": "markdown",
   "metadata": {},
   "source": [
    "### Alter the data index of Series (Alterando o indice da Sereies)"
   ]
  },
  {
   "cell_type": "code",
   "execution_count": 27,
   "metadata": {},
   "outputs": [
    {
     "name": "stdout",
     "output_type": "stream",
     "text": [
      "2017-12-29    3620\n",
      "2017-12-30    7891\n",
      "2017-12-31    9761\n",
      "2018-01-01    3907\n",
      "2018-01-02    4338\n",
      "2018-01-03    5373\n",
      "Freq: D, Name: steps, dtype: int64\n"
     ]
    }
   ],
   "source": [
    "step_counts.index = pd.date_range('20171229', periods=step_counts.size)\n",
    "print(step_counts)"
   ]
  },
  {
   "cell_type": "markdown",
   "metadata": {},
   "source": [
    "### Ways to print Series data (Formas de apresentar os dados das Series)\n",
    " * Like a dictionary (Como um dicionário -- Hash)\n",
    " * With index (Com indice)\n",
    " * Multiple values (Vários valores)\n",
    " * Data type (Tipo do dado)\n",
    " * Converting data type (Conversão de tipo de dado)\n",
    " * By range (Por faixa)"
   ]
  },
  {
   "cell_type": "code",
   "execution_count": 40,
   "metadata": {},
   "outputs": [
    {
     "name": "stdout",
     "output_type": "stream",
     "text": [
      "\n",
      "Hash.:\n",
      " 9761.0\n",
      "\n",
      "Index:\n",
      " 9761.0\n",
      "\n",
      "Mult. Values:\n",
      " 2017-12-29    3620.0\n",
      "2017-12-30    7891.0\n",
      "2017-12-31    9761.0\n",
      "Freq: D, Name: steps, dtype: float64\n",
      "\n",
      "Data Type:\n",
      " float64\n",
      "\n",
      "Converting:\n",
      "\n",
      "New Data Type:\n",
      " float64\n",
      "\n",
      "By range:\n",
      " 2017-12-30    7891.0\n",
      "2017-12-31    9761.0\n",
      "Freq: D, Name: steps, dtype: float64\n"
     ]
    }
   ],
   "source": [
    "import numpy as np;\n",
    "\n",
    "print(\"\\nHash.:\\n\",step_counts['2017-12-31']);\n",
    "print(\"\\nIndex:\\n\", step_counts[2]);\n",
    "print(\"\\nMult. Values:\\n\", step_counts['2017-12']);\n",
    "print(\"\\nData Type:\\n\", step_counts.dtypes);\n",
    "print(\"\\nConverting:\");\n",
    "step_counts = step_counts.astype(np.float);\n",
    "print(\"\\nNew Data Type:\\n\", step_counts.dtypes);\n",
    "print(\"\\nBy range:\\n\", step_counts[1:3])"
   ]
  },
  {
   "cell_type": "markdown",
   "metadata": {},
   "source": [
    "### Creating Dataframe in Pandas by Series (Criando Dataframe no Pandas usando Series)\n",
    "In this snippet code a new vector is created, `cycling_data`. Then, it is joined with `step_data`, doing a list of tuples. This list is used to create the dataframe.\n",
    "\n",
    "Neste trecho de código é criado um novo vetor `cycling_data`. Então é feito uma junção com `step_data`, fazendo uma lista de tuplas. Esta lista é usada para criar o dataframe."
   ]
  },
  {
   "cell_type": "code",
   "execution_count": 44,
   "metadata": {},
   "outputs": [
    {
     "name": "stdout",
     "output_type": "stream",
     "text": [
      "      0     1\n",
      "0  3620  10.7\n",
      "1  7891   0.0\n",
      "2  9761   NaN\n",
      "3  3907   2.4\n",
      "4  4338  15.3\n",
      "5  5373  10.9\n"
     ]
    }
   ],
   "source": [
    "cycling_data = [10.7, 0, None, 2.4, 15.3, 10.9, 0, None]\n",
    "zipped = zip(step_data,cycling_data)\n",
    "joined_data = list(zipped)\n",
    "\n",
    "activity_df = pd.DataFrame(joined_data)\n",
    "\n",
    "print(activity_df)"
   ]
  },
  {
   "cell_type": "markdown",
   "metadata": {},
   "source": [
    "### Reindexing dataframe and changing column names (Reindexando as linhas e alterando os nomes das colunas)\n",
    "\n",
    "Simulating exercises done walking and cycling in different days.\n",
    "\n",
    "Simulando exercícios feitos com caminhadas e ciclismo em diferentes dias."
   ]
  },
  {
   "cell_type": "code",
   "execution_count": 50,
   "metadata": {},
   "outputs": [
    {
     "name": "stdout",
     "output_type": "stream",
     "text": [
      "            Walking  Cycling\n",
      "2017-12-29     3620     10.7\n",
      "2017-12-30     7891      0.0\n",
      "2017-12-31     9761      NaN\n",
      "2018-01-01     3907      2.4\n",
      "2018-01-02     4338     15.3\n",
      "2018-01-03     5373     10.9\n"
     ]
    }
   ],
   "source": [
    "activity_df = pd.DataFrame(joined_data, index=pd.date_range('20171229', periods=6), columns=['Walking','Cycling']);\n",
    "\n",
    "print(activity_df)"
   ]
  },
  {
   "cell_type": "markdown",
   "metadata": {},
   "source": [
    "### Ways to print Dataframe data (Formas de apresentar os dados das Dataframe)\n",
    " * By index name (pelo nome do indice)\n",
    " * By number index (pelo indice numérico)\n",
    " * Print by Column (Imprimir uma coluna)\n",
    " * Print by Range (Imprimir por faixa)"
   ]
  },
  {
   "cell_type": "code",
   "execution_count": 60,
   "metadata": {},
   "outputs": [
    {
     "name": "stdout",
     "output_type": "stream",
     "text": [
      "Printing by index name row:\n",
      "Walking    9761.0\n",
      "Cycling       NaN\n",
      "Name: 2017-12-31 00:00:00, dtype: float64\n",
      "\n",
      "Printing by index numeric row:\n",
      "Walking    9761.0\n",
      "Cycling       NaN\n",
      "Name: 2017-12-31 00:00:00, dtype: float64\n",
      "Walking    9761.0\n",
      "Cycling       NaN\n",
      "Name: 2017-12-31 00:00:00, dtype: float64\n",
      "\n",
      "Printing column as Hash:\n",
      "2017-12-29    3620\n",
      "2017-12-30    7891\n",
      "2017-12-31    9761\n",
      "2018-01-01    3907\n",
      "2018-01-02    4338\n",
      "2018-01-03    5373\n",
      "Freq: D, Name: Walking, dtype: int64\n",
      "\n",
      "Printing column as Property:\n",
      "2017-12-29    3620\n",
      "2017-12-30    7891\n",
      "2017-12-31    9761\n",
      "2018-01-01    3907\n",
      "2018-01-02    4338\n",
      "2018-01-03    5373\n",
      "Freq: D, Name: Walking, dtype: int64\n",
      "\n",
      "Printing by range (first 2 row, first column):\n",
      "2017-12-29    3620\n",
      "2017-12-30    7891\n",
      "Freq: D, Name: Walking, dtype: int64\n",
      "\n"
     ]
    }
   ],
   "source": [
    "print(\"Printing by index name row:\")\n",
    "print(activity_df.loc['2017-12-31'])\n",
    "print()\n",
    "\n",
    "print(\"Printing by index numeric row:\")\n",
    "print(activity_df.iloc[-4])\n",
    "print(activity_df.iloc[2])\n",
    "print()\n",
    "\n",
    "print(\"Printing column as Hash:\")\n",
    "print(activity_df['Walking'])\n",
    "print()\n",
    "\n",
    "print(\"Printing column as Property:\")\n",
    "print(activity_df.Walking)\n",
    "print()\n",
    "\n",
    "print(\"Printing by range (first 2 row, first column):\")\n",
    "print(activity_df.iloc[:2,0])\n",
    "print()"
   ]
  }
 ],
 "metadata": {
  "kernelspec": {
   "display_name": "Python 3",
   "language": "python",
   "name": "python3"
  },
  "language_info": {
   "codemirror_mode": {
    "name": "ipython",
    "version": 3
   },
   "file_extension": ".py",
   "mimetype": "text/x-python",
   "name": "python",
   "nbconvert_exporter": "python",
   "pygments_lexer": "ipython3",
   "version": "3.5.2"
  }
 },
 "nbformat": 4,
 "nbformat_minor": 2
}
