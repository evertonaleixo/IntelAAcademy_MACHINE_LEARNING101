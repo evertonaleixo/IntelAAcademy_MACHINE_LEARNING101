{
 "cells": [
  {
   "cell_type": "markdown",
   "metadata": {
    "run_control": {
     "marked": true
    }
   },
   "source": [
    "# Train Test Splits, Cross Validation, and Linear Regression"
   ]
  },
  {
   "cell_type": "markdown",
   "metadata": {
    "run_control": {
     "marked": true
    }
   },
   "source": [
    "## Introduction\n",
    "\n",
    "We will be working with a data set based on [housing prices in Ames, Iowa](https://www.kaggle.com/c/house-prices-advanced-regression-techniques). It was compiled for educational use to be a modernized and expanded alternative to the well-known Boston Housing dataset. This version of the data set has had some missing values filled for convenience.\n",
    "\n",
    "There are an extensive number of features, so they've been described in the table below.\n",
    "\n",
    "### Predictor\n",
    "\n",
    "* SalePrice: The property's sale price in dollars. \n",
    "\n",
    "\n",
    "### Features\n",
    "\n",
    "<table>\n",
    "  <tbody>    \n",
    "    <tr valign=\"top\">\n",
    "      <td valign=\"top\">\n",
    "        <ul>\n",
    "          <li>MoSold: Month Sold</li>\n",
    "          <li>YrSold: Year Sold</li><br>\n",
    "          \n",
    "          <li>SaleType: Type of sale</li>\n",
    "          <li>SaleCondition: Condition of sale</li><br>\n",
    "\n",
    "          <li>MSSubClass: The building class</li>\n",
    "          <li>MSZoning: The general zoning classification</li><br>\n",
    "\n",
    "          <li>Neighborhood: Physical locations within Ames city limits</li>\n",
    "          <li>Street: Type of road access</li>\n",
    "          <li>Alley: Type of alley access</li><br>\n",
    "\n",
    "          <li>LotArea: Lot size in square feet</li>\n",
    "          <li>LotConfig: Lot configuration</li>\n",
    "          <li>LotFrontage: Linear feet of street connected to property</li>\n",
    "          <li>LotShape: General shape of property</li><br>\n",
    "\n",
    "          <li>LandSlope: Slope of property</li>\n",
    "          <li>LandContour: Flatness of the property</li><br>\n",
    "\n",
    "          <li>YearBuilt: Original construction date</li>\n",
    "          <li>YearRemodAdd: Remodel date</li>\n",
    "          <li>OverallQual: Overall material and finish quality</li>\n",
    "          <li>OverallCond: Overall condition rating</li><br>\n",
    "\n",
    "          <li>Utilities: Type of utilities available</li>\n",
    "          <li>Foundation: Type of foundation</li>\n",
    "          <li>Functional: Home functionality rating</li><br>\n",
    "\n",
    "          <li>BldgType: Type of dwelling</li>\n",
    "          <li>HouseStyle: Style of dwelling</li><br>\n",
    "          \n",
    "          <li>1stFlrSF: First Floor square feet</li>\n",
    "          <li>2ndFlrSF: Second floor square feet</li>\n",
    "          <li>LowQualFinSF: Low quality finished square feet (all floors)</li>\n",
    "          <li>GrLivArea: Above grade (ground) living area square feet</li>\n",
    "          <li>TotRmsAbvGrd: Total rooms above grade (does not include bathrooms)</li><br>\n",
    "\n",
    "          <li>Condition1: Proximity to main road or railroad</li>\n",
    "          <li>Condition2: Proximity to main road or railroad (if a second is present)</li><br>\n",
    "          \n",
    "          <li>RoofStyle: Type of roof</li>\n",
    "          <li>RoofMatl: Roof material</li><br>\n",
    "\n",
    "          <li>ExterQual: Exterior material quality</li>\n",
    "          <li>ExterCond: Present condition of the material on the exterior</li>\n",
    "          <li>Exterior1st: Exterior covering on house</li>\n",
    "          <li>Exterior2nd: Exterior covering on house (if more than one material)</li><br><br>\n",
    "          \n",
    "        </ul>\n",
    "      </td>\n",
    "      \n",
    "      <td valign=\"top\">\n",
    "        <ul>\n",
    "          <li>MasVnrType: Masonry veneer type</li>\n",
    "          <li>MasVnrArea: Masonry veneer area in square feet</li><br>\n",
    "          \n",
    "          <li>WoodDeckSF: Wood deck area in square feet</li>\n",
    "          <li>OpenPorchSF: Open porch area in square feet</li>\n",
    "          <li>EnclosedPorch: Enclosed porch area in square feet</li>\n",
    "          <li>3SsnPorch: Three season porch area in square feet</li>\n",
    "          <li>ScreenPorch: Screen porch area in square feet</li><br>\n",
    "\n",
    "          <li>PoolArea: Pool area in square feet</li>\n",
    "          <li>PoolQC: Pool quality</li>\n",
    "          <li>Fence: Fence quality</li>\n",
    "          <li>PavedDrive: Paved driveway</li><br>\n",
    "\n",
    "          <li>GarageType: Garage location</li>\n",
    "          <li>GarageYrBlt: Year garage was built</li>\n",
    "          <li>GarageFinish: Interior finish of the garage</li>\n",
    "          <li>GarageCars: Size of garage in car capacity</li>\n",
    "          <li>GarageArea: Size of garage in square feet</li>\n",
    "          <li>GarageQual: Garage quality</li>\n",
    "          <li>GarageCond: Garage condition</li><br>\n",
    "\n",
    "          <li>Heating: Type of heating</li>\n",
    "          <li>HeatingQC: Heating quality and condition</li>\n",
    "          <li>CentralAir: Central air conditioning</li>\n",
    "          <li>Electrical: Electrical system</li><br>\n",
    "          \n",
    "          <li>FullBath: Full bathrooms above grade</li>\n",
    "          <li>HalfBath: Half baths above grade</li><br>\n",
    "          \n",
    "          <li>BedroomAbvGr: Number of bedrooms above basement level</li><br>\n",
    "          \n",
    "          <li>KitchenAbvGr: Number of kitchens</li>\n",
    "          <li>KitchenQual: Kitchen quality</li><br>\n",
    "          \n",
    "          <li>Fireplaces: Number of fireplaces</li>\n",
    "          <li>FireplaceQu: Fireplace quality</li><br>\n",
    "          \n",
    "          <li>MiscFeature: Miscellaneous feature not covered in other categories</li>\n",
    "          <li>MiscVal: Value of miscellaneous feature</li><br>\n",
    "          \n",
    "          <li>BsmtQual: Height of the basement</li>\n",
    "          <li>BsmtCond: General condition of the basement</li>\n",
    "          <li>BsmtExposure: Walkout or garden level basement walls</li>\n",
    "          <li>BsmtFinType1: Quality of basement finished area</li>\n",
    "          <li>BsmtFinSF1: Type 1 finished square feet</li>\n",
    "          <li>BsmtFinType2: Quality of second finished area (if present)</li>\n",
    "          <li>BsmtFinSF2: Type 2 finished square feet</li>\n",
    "          <li>BsmtUnfSF: Unfinished square feet of basement area</li>\n",
    "          <li>BsmtFullBath: Basement full bathrooms</li>\n",
    "          <li>BsmtHalfBath: Basement half bathrooms</li>\n",
    "          <li>TotalBsmtSF: Total square feet of basement area</li>\n",
    "        </ul>\n",
    "      </td>\n",
    "    </tr>\n",
    "    \n",
    "  </tbody>\n",
    "</table>\n"
   ]
  },
  {
   "cell_type": "code",
   "execution_count": 232,
   "metadata": {
    "ExecuteTime": {
     "end_time": "2017-03-09T17:24:40.724060Z",
     "start_time": "2017-03-09T12:24:40.718739-05:00"
    },
    "run_control": {
     "marked": true
    }
   },
   "outputs": [],
   "source": [
    "from __future__ import print_function\n",
    "import os\n",
    "data_path = ['data']"
   ]
  },
  {
   "cell_type": "markdown",
   "metadata": {
    "run_control": {
     "marked": true
    }
   },
   "source": [
    "## Question 1\n",
    "\n",
    "* Import the data using Pandas and examine the shape. There are 79 feature columns plus the predictor, the sale price (`SalePrice`). \n",
    "* There are three different types: integers (`int64`), floats (`float64`), and strings (`object`, categoricals). Examine how many there are of each data type. "
   ]
  },
  {
   "cell_type": "code",
   "execution_count": 233,
   "metadata": {
    "run_control": {
     "marked": true
    }
   },
   "outputs": [
    {
     "name": "stdout",
     "output_type": "stream",
     "text": [
      "(1379, 80)\n"
     ]
    }
   ],
   "source": [
    "import pandas as pd\n",
    "import numpy as np\n",
    "\n",
    "# Import the data using the file path\n",
    "filepath = os.sep.join(data_path + ['Ames_Housing_Sales.csv'])\n",
    "data = pd.read_csv(filepath, sep=',')\n",
    "\n",
    "print(data.shape)"
   ]
  },
  {
   "cell_type": "code",
   "execution_count": 234,
   "metadata": {
    "run_control": {
     "marked": true
    }
   },
   "outputs": [
    {
     "data": {
      "text/plain": [
       "object     43\n",
       "float64    21\n",
       "int64      16\n",
       "dtype: int64"
      ]
     },
     "execution_count": 234,
     "metadata": {},
     "output_type": "execute_result"
    }
   ],
   "source": [
    "data.dtypes.value_counts()"
   ]
  },
  {
   "cell_type": "code",
   "execution_count": 235,
   "metadata": {},
   "outputs": [
    {
     "data": {
      "text/html": [
       "<div>\n",
       "<style scoped>\n",
       "    .dataframe tbody tr th:only-of-type {\n",
       "        vertical-align: middle;\n",
       "    }\n",
       "\n",
       "    .dataframe tbody tr th {\n",
       "        vertical-align: top;\n",
       "    }\n",
       "\n",
       "    .dataframe thead th {\n",
       "        text-align: right;\n",
       "    }\n",
       "</style>\n",
       "<table border=\"1\" class=\"dataframe\">\n",
       "  <thead>\n",
       "    <tr style=\"text-align: right;\">\n",
       "      <th></th>\n",
       "      <th>1stFlrSF</th>\n",
       "      <th>2ndFlrSF</th>\n",
       "      <th>3SsnPorch</th>\n",
       "      <th>Alley</th>\n",
       "      <th>BedroomAbvGr</th>\n",
       "      <th>BldgType</th>\n",
       "      <th>BsmtCond</th>\n",
       "      <th>BsmtExposure</th>\n",
       "      <th>BsmtFinSF1</th>\n",
       "      <th>BsmtFinSF2</th>\n",
       "      <th>...</th>\n",
       "      <th>ScreenPorch</th>\n",
       "      <th>Street</th>\n",
       "      <th>TotRmsAbvGrd</th>\n",
       "      <th>TotalBsmtSF</th>\n",
       "      <th>Utilities</th>\n",
       "      <th>WoodDeckSF</th>\n",
       "      <th>YearBuilt</th>\n",
       "      <th>YearRemodAdd</th>\n",
       "      <th>YrSold</th>\n",
       "      <th>SalePrice</th>\n",
       "    </tr>\n",
       "  </thead>\n",
       "  <tbody>\n",
       "    <tr>\n",
       "      <th>1344</th>\n",
       "      <td>848.0</td>\n",
       "      <td>0.0</td>\n",
       "      <td>0.0</td>\n",
       "      <td>None</td>\n",
       "      <td>1</td>\n",
       "      <td>TwnhsE</td>\n",
       "      <td>TA</td>\n",
       "      <td>Av</td>\n",
       "      <td>686.0</td>\n",
       "      <td>0.0</td>\n",
       "      <td>...</td>\n",
       "      <td>0.0</td>\n",
       "      <td>Pave</td>\n",
       "      <td>3</td>\n",
       "      <td>848.0</td>\n",
       "      <td>AllPub</td>\n",
       "      <td>140.0</td>\n",
       "      <td>2003</td>\n",
       "      <td>2003</td>\n",
       "      <td>2008</td>\n",
       "      <td>136500.0</td>\n",
       "    </tr>\n",
       "  </tbody>\n",
       "</table>\n",
       "<p>1 rows × 80 columns</p>\n",
       "</div>"
      ],
      "text/plain": [
       "      1stFlrSF  2ndFlrSF  3SsnPorch Alley  BedroomAbvGr BldgType BsmtCond  \\\n",
       "1344     848.0       0.0        0.0  None             1   TwnhsE       TA   \n",
       "\n",
       "     BsmtExposure  BsmtFinSF1  BsmtFinSF2    ...    ScreenPorch Street  \\\n",
       "1344           Av       686.0         0.0    ...            0.0   Pave   \n",
       "\n",
       "      TotRmsAbvGrd  TotalBsmtSF Utilities  WoodDeckSF YearBuilt YearRemodAdd  \\\n",
       "1344             3        848.0    AllPub       140.0      2003         2003   \n",
       "\n",
       "     YrSold SalePrice  \n",
       "1344   2008  136500.0  \n",
       "\n",
       "[1 rows x 80 columns]"
      ]
     },
     "execution_count": 235,
     "metadata": {},
     "output_type": "execute_result"
    }
   ],
   "source": [
    "data.sample(1)"
   ]
  },
  {
   "cell_type": "markdown",
   "metadata": {
    "run_control": {
     "marked": true
    }
   },
   "source": [
    "## Question 2\n",
    "\n",
    "As discussed in the lecture, a significant challenge, particularly when dealing with data that have many columns, is ensuring each column gets encoded correctly. \n",
    "\n",
    "This is particularly true with data columns that are ordered categoricals (ordinals) vs unordered categoricals. Unordered categoricals should be one-hot encoded, however this can significantly increase the number of features and creates features that are highly correlated with each other.\n",
    "\n",
    "Determine how many total features would be present, relative to what currently exists, if all string (object) features are one-hot encoded. Recall that the total number of one-hot encoded columns is `n-1`, where `n` is the number of categories."
   ]
  },
  {
   "cell_type": "code",
   "execution_count": 236,
   "metadata": {
    "run_control": {
     "marked": true
    }
   },
   "outputs": [],
   "source": [
    "# Select the object (string) columns\n",
    "mask = data.dtypes == np.object\n",
    "categorical_cols = data.columns[mask]"
   ]
  },
  {
   "cell_type": "code",
   "execution_count": 237,
   "metadata": {},
   "outputs": [
    {
     "data": {
      "text/plain": [
       "Index(['Alley', 'BldgType', 'BsmtCond', 'BsmtExposure', 'BsmtFinType1',\n",
       "       'BsmtFinType2', 'BsmtQual', 'CentralAir', 'Condition1', 'Condition2',\n",
       "       'Electrical', 'ExterCond', 'ExterQual', 'Exterior1st', 'Exterior2nd',\n",
       "       'Fence', 'FireplaceQu', 'Foundation', 'Functional', 'GarageCond',\n",
       "       'GarageFinish', 'GarageQual', 'GarageType', 'Heating', 'HeatingQC',\n",
       "       'HouseStyle', 'KitchenQual', 'LandContour', 'LandSlope', 'LotConfig',\n",
       "       'LotShape', 'MSZoning', 'MasVnrType', 'MiscFeature', 'Neighborhood',\n",
       "       'PavedDrive', 'PoolQC', 'RoofMatl', 'RoofStyle', 'SaleCondition',\n",
       "       'SaleType', 'Street', 'Utilities'],\n",
       "      dtype='object')"
      ]
     },
     "execution_count": 237,
     "metadata": {},
     "output_type": "execute_result"
    }
   ],
   "source": [
    "# Columns that has string type\n",
    "categorical_cols"
   ]
  },
  {
   "cell_type": "code",
   "execution_count": 238,
   "metadata": {},
   "outputs": [
    {
     "data": {
      "text/html": [
       "<div>\n",
       "<style scoped>\n",
       "    .dataframe tbody tr th:only-of-type {\n",
       "        vertical-align: middle;\n",
       "    }\n",
       "\n",
       "    .dataframe tbody tr th {\n",
       "        vertical-align: top;\n",
       "    }\n",
       "\n",
       "    .dataframe thead th {\n",
       "        text-align: right;\n",
       "    }\n",
       "</style>\n",
       "<table border=\"1\" class=\"dataframe\">\n",
       "  <thead>\n",
       "    <tr style=\"text-align: right;\">\n",
       "      <th></th>\n",
       "      <th>Alley</th>\n",
       "      <th>BldgType</th>\n",
       "      <th>BsmtCond</th>\n",
       "      <th>BsmtExposure</th>\n",
       "      <th>BsmtFinType1</th>\n",
       "      <th>BsmtFinType2</th>\n",
       "      <th>BsmtQual</th>\n",
       "      <th>CentralAir</th>\n",
       "      <th>Condition1</th>\n",
       "      <th>Condition2</th>\n",
       "      <th>...</th>\n",
       "      <th>MiscFeature</th>\n",
       "      <th>Neighborhood</th>\n",
       "      <th>PavedDrive</th>\n",
       "      <th>PoolQC</th>\n",
       "      <th>RoofMatl</th>\n",
       "      <th>RoofStyle</th>\n",
       "      <th>SaleCondition</th>\n",
       "      <th>SaleType</th>\n",
       "      <th>Street</th>\n",
       "      <th>Utilities</th>\n",
       "    </tr>\n",
       "  </thead>\n",
       "  <tbody>\n",
       "    <tr>\n",
       "      <th>959</th>\n",
       "      <td>None</td>\n",
       "      <td>TwnhsE</td>\n",
       "      <td>TA</td>\n",
       "      <td>Av</td>\n",
       "      <td>GLQ</td>\n",
       "      <td>Unf</td>\n",
       "      <td>Gd</td>\n",
       "      <td>Y</td>\n",
       "      <td>Norm</td>\n",
       "      <td>Norm</td>\n",
       "      <td>...</td>\n",
       "      <td>None</td>\n",
       "      <td>StoneBr</td>\n",
       "      <td>Y</td>\n",
       "      <td>None</td>\n",
       "      <td>CompShg</td>\n",
       "      <td>Gable</td>\n",
       "      <td>Abnorml</td>\n",
       "      <td>COD</td>\n",
       "      <td>Pave</td>\n",
       "      <td>AllPub</td>\n",
       "    </tr>\n",
       "    <tr>\n",
       "      <th>392</th>\n",
       "      <td>None</td>\n",
       "      <td>1Fam</td>\n",
       "      <td>TA</td>\n",
       "      <td>No</td>\n",
       "      <td>ALQ</td>\n",
       "      <td>Unf</td>\n",
       "      <td>TA</td>\n",
       "      <td>Y</td>\n",
       "      <td>Norm</td>\n",
       "      <td>Norm</td>\n",
       "      <td>...</td>\n",
       "      <td>None</td>\n",
       "      <td>Sawyer</td>\n",
       "      <td>Y</td>\n",
       "      <td>None</td>\n",
       "      <td>CompShg</td>\n",
       "      <td>Hip</td>\n",
       "      <td>Normal</td>\n",
       "      <td>WD</td>\n",
       "      <td>Pave</td>\n",
       "      <td>AllPub</td>\n",
       "    </tr>\n",
       "    <tr>\n",
       "      <th>1012</th>\n",
       "      <td>None</td>\n",
       "      <td>1Fam</td>\n",
       "      <td>None</td>\n",
       "      <td>None</td>\n",
       "      <td>None</td>\n",
       "      <td>None</td>\n",
       "      <td>None</td>\n",
       "      <td>Y</td>\n",
       "      <td>Artery</td>\n",
       "      <td>Norm</td>\n",
       "      <td>...</td>\n",
       "      <td>None</td>\n",
       "      <td>Edwards</td>\n",
       "      <td>P</td>\n",
       "      <td>None</td>\n",
       "      <td>CompShg</td>\n",
       "      <td>Gable</td>\n",
       "      <td>Normal</td>\n",
       "      <td>WD</td>\n",
       "      <td>Pave</td>\n",
       "      <td>AllPub</td>\n",
       "    </tr>\n",
       "    <tr>\n",
       "      <th>1313</th>\n",
       "      <td>None</td>\n",
       "      <td>1Fam</td>\n",
       "      <td>TA</td>\n",
       "      <td>Av</td>\n",
       "      <td>GLQ</td>\n",
       "      <td>Unf</td>\n",
       "      <td>Gd</td>\n",
       "      <td>Y</td>\n",
       "      <td>Norm</td>\n",
       "      <td>Norm</td>\n",
       "      <td>...</td>\n",
       "      <td>None</td>\n",
       "      <td>CollgCr</td>\n",
       "      <td>Y</td>\n",
       "      <td>None</td>\n",
       "      <td>CompShg</td>\n",
       "      <td>Gable</td>\n",
       "      <td>Normal</td>\n",
       "      <td>WD</td>\n",
       "      <td>Pave</td>\n",
       "      <td>AllPub</td>\n",
       "    </tr>\n",
       "    <tr>\n",
       "      <th>637</th>\n",
       "      <td>None</td>\n",
       "      <td>1Fam</td>\n",
       "      <td>TA</td>\n",
       "      <td>No</td>\n",
       "      <td>Rec</td>\n",
       "      <td>Unf</td>\n",
       "      <td>TA</td>\n",
       "      <td>Y</td>\n",
       "      <td>Norm</td>\n",
       "      <td>Norm</td>\n",
       "      <td>...</td>\n",
       "      <td>None</td>\n",
       "      <td>Sawyer</td>\n",
       "      <td>Y</td>\n",
       "      <td>None</td>\n",
       "      <td>CompShg</td>\n",
       "      <td>Hip</td>\n",
       "      <td>Normal</td>\n",
       "      <td>WD</td>\n",
       "      <td>Pave</td>\n",
       "      <td>AllPub</td>\n",
       "    </tr>\n",
       "  </tbody>\n",
       "</table>\n",
       "<p>5 rows × 43 columns</p>\n",
       "</div>"
      ],
      "text/plain": [
       "     Alley BldgType BsmtCond BsmtExposure BsmtFinType1 BsmtFinType2 BsmtQual  \\\n",
       "959   None   TwnhsE       TA           Av          GLQ          Unf       Gd   \n",
       "392   None     1Fam       TA           No          ALQ          Unf       TA   \n",
       "1012  None     1Fam     None         None         None         None     None   \n",
       "1313  None     1Fam       TA           Av          GLQ          Unf       Gd   \n",
       "637   None     1Fam       TA           No          Rec          Unf       TA   \n",
       "\n",
       "     CentralAir Condition1 Condition2    ...    MiscFeature Neighborhood  \\\n",
       "959           Y       Norm       Norm    ...           None      StoneBr   \n",
       "392           Y       Norm       Norm    ...           None       Sawyer   \n",
       "1012          Y     Artery       Norm    ...           None      Edwards   \n",
       "1313          Y       Norm       Norm    ...           None      CollgCr   \n",
       "637           Y       Norm       Norm    ...           None       Sawyer   \n",
       "\n",
       "     PavedDrive PoolQC RoofMatl RoofStyle SaleCondition SaleType Street  \\\n",
       "959           Y   None  CompShg     Gable       Abnorml      COD   Pave   \n",
       "392           Y   None  CompShg       Hip        Normal       WD   Pave   \n",
       "1012          P   None  CompShg     Gable        Normal       WD   Pave   \n",
       "1313          Y   None  CompShg     Gable        Normal       WD   Pave   \n",
       "637           Y   None  CompShg       Hip        Normal       WD   Pave   \n",
       "\n",
       "     Utilities  \n",
       "959     AllPub  \n",
       "392     AllPub  \n",
       "1012    AllPub  \n",
       "1313    AllPub  \n",
       "637     AllPub  \n",
       "\n",
       "[5 rows x 43 columns]"
      ]
     },
     "execution_count": 238,
     "metadata": {},
     "output_type": "execute_result"
    }
   ],
   "source": [
    "# Present some values of dataset from categorical columns\n",
    "data[categorical_cols].sample(5)"
   ]
  },
  {
   "cell_type": "code",
   "execution_count": 239,
   "metadata": {
    "run_control": {
     "marked": true
    }
   },
   "outputs": [
    {
     "data": {
      "text/plain": [
       "215"
      ]
     },
     "execution_count": 239,
     "metadata": {},
     "output_type": "execute_result"
    }
   ],
   "source": [
    "# Determine how many extra columns would be created\n",
    "# for each column get the number of unique values and ordering this values in descending\n",
    "# unique() => return the unique values in a column\n",
    "# nunique() => return the number of unique values in a column\n",
    "# len(data[categorical_cols].COL_NAME.unique()) == data[categorical_cols].COL_NAME.nunique()\n",
    "num_ohc_cols = (data[categorical_cols]\n",
    "                .apply(lambda x: x.nunique())\n",
    "                .sort_values(ascending=False))\n",
    "\n",
    "\n",
    "# No need to encode if there is only one value\n",
    "# In this dataset does not have any column with just one categorical\n",
    "# loc is used to apply a mask selecting just elements that match condition.\n",
    "small_num_ohc_cols = num_ohc_cols.loc[num_ohc_cols>1]\n",
    "\n",
    "# Number of one-hot columns is one less than the number of categories\n",
    "small_num_ohc_cols -= 1\n",
    "\n",
    "# This is 215 columns, assuming the original ones are dropped. \n",
    "# This is quite a few extra columns!\n",
    "small_num_ohc_cols.sum()"
   ]
  },
  {
   "cell_type": "markdown",
   "metadata": {
    "run_control": {
     "marked": true
    }
   },
   "source": [
    "## Question 3\n",
    "\n",
    "Let's create a new data set where all of the above categorical features will be one-hot encoded. We can fit this data and see how it affects the results.\n",
    "\n",
    "* Used the dataframe `.copy()` method to create a completely separate copy of the dataframe for one-hot encoding\n",
    "* On this new dataframe, one-hot encode each of the appropriate columns and add it back to the dataframe. Be sure to drop the original column.\n",
    "* For the data that are not one-hot encoded, drop the columns that are string categoricals.\n",
    "\n",
    "For the first step, numerically encoding the string categoricals, either Scikit-learn;s `LabelEncoder` or `DictVectorizer` can be used. However, the former is probably easier since it doesn't require specifying a numerical value for each category, and we are going to one-hot encode all of the numerical values anyway. (Can you think of a time when `DictVectorizer` might be preferred?)"
   ]
  },
  {
   "cell_type": "code",
   "execution_count": 240,
   "metadata": {},
   "outputs": [
    {
     "data": {
      "text/html": [
       "<div>\n",
       "<style scoped>\n",
       "    .dataframe tbody tr th:only-of-type {\n",
       "        vertical-align: middle;\n",
       "    }\n",
       "\n",
       "    .dataframe tbody tr th {\n",
       "        vertical-align: top;\n",
       "    }\n",
       "\n",
       "    .dataframe thead th {\n",
       "        text-align: right;\n",
       "    }\n",
       "</style>\n",
       "<table border=\"1\" class=\"dataframe\">\n",
       "  <thead>\n",
       "    <tr style=\"text-align: right;\">\n",
       "      <th></th>\n",
       "      <th>Neighborhood</th>\n",
       "      <th>Neighborhood_1</th>\n",
       "    </tr>\n",
       "  </thead>\n",
       "  <tbody>\n",
       "    <tr>\n",
       "      <th>564</th>\n",
       "      <td>Blueste</td>\n",
       "      <td>1.0</td>\n",
       "    </tr>\n",
       "    <tr>\n",
       "      <th>904</th>\n",
       "      <td>Blueste</td>\n",
       "      <td>1.0</td>\n",
       "    </tr>\n",
       "  </tbody>\n",
       "</table>\n",
       "</div>"
      ],
      "text/plain": [
       "    Neighborhood  Neighborhood_1\n",
       "564      Blueste             1.0\n",
       "904      Blueste             1.0"
      ]
     },
     "execution_count": 240,
     "metadata": {},
     "output_type": "execute_result"
    }
   ],
   "source": [
    "from sklearn.preprocessing import OneHotEncoder, LabelEncoder\n",
    "\n",
    "# Copy of the data\n",
    "data_ohc = data.copy()\n",
    "\n",
    "# The encoders\n",
    "le = LabelEncoder()\n",
    "ohc = OneHotEncoder()\n",
    "\n",
    "col = 'Neighborhood'\n",
    "# Integer encode the string categories\n",
    "dat = le.fit_transform(data_ohc[col]).astype(np.int)\n",
    "# print(data_ohc[col])\n",
    "# data_ohc = data_ohc.drop(col, axis=1)\n",
    "\n",
    "new_dat = ohc.fit_transform(dat.reshape(-1,1))\n",
    "\n",
    "n_cols = new_dat.shape[1]\n",
    "# n_cols\n",
    "col_names = ['_'.join([col, str(x)]) for x in range(n_cols)]\n",
    "\n",
    "new_df = pd.DataFrame(new_dat.toarray(), \n",
    "                          index=data_ohc.index, \n",
    "                          columns=col_names)\n",
    "\n",
    "data_ohc = pd.concat([data_ohc, new_df], axis=1)\n",
    "\n",
    "data_ohc[['Neighborhood', 'Neighborhood_1']][data_ohc.Neighborhood_1==1]"
   ]
  },
  {
   "cell_type": "code",
   "execution_count": 241,
   "metadata": {
    "run_control": {
     "marked": true
    }
   },
   "outputs": [],
   "source": [
    "from sklearn.preprocessing import OneHotEncoder, LabelEncoder\n",
    "\n",
    "# Copy of the data\n",
    "data_ohc = data.copy()\n",
    "\n",
    "# The encoders\n",
    "le = LabelEncoder()\n",
    "ohc = OneHotEncoder()\n",
    "\n",
    "# For each column that has categorical values, like Neighborhood, \n",
    "for col in num_ohc_cols.index:\n",
    "    \n",
    "    # Integer encode the string categories\n",
    "    dat = le.fit_transform(data_ohc[col]).astype(np.int)\n",
    "    \n",
    "    # Remove the original column from the dataframe\n",
    "    data_ohc = data_ohc.drop(col, axis=1)\n",
    "\n",
    "    # One hot encode the data--this returns a sparse array\n",
    "    new_dat = ohc.fit_transform(dat.reshape(-1,1))\n",
    "\n",
    "    # Create unique column names\n",
    "    n_cols = new_dat.shape[1]\n",
    "    col_names = ['_'.join([col, str(x)]) for x in range(n_cols)]\n",
    "\n",
    "    # Create the new dataframe\n",
    "    new_df = pd.DataFrame(new_dat.toarray(), \n",
    "                          index=data_ohc.index, \n",
    "                          columns=col_names)\n",
    "\n",
    "    # Append the new data to the dataframe\n",
    "    data_ohc = pd.concat([data_ohc, new_df], axis=1)"
   ]
  },
  {
   "cell_type": "code",
   "execution_count": 242,
   "metadata": {
    "run_control": {
     "marked": true
    }
   },
   "outputs": [
    {
     "data": {
      "text/plain": [
       "215"
      ]
     },
     "execution_count": 242,
     "metadata": {},
     "output_type": "execute_result"
    }
   ],
   "source": [
    "# Column difference is as calculated above\n",
    "data_ohc.shape[1] - data.shape[1]"
   ]
  },
  {
   "cell_type": "code",
   "execution_count": 243,
   "metadata": {
    "run_control": {
     "marked": true
    }
   },
   "outputs": [
    {
     "name": "stdout",
     "output_type": "stream",
     "text": [
      "80\n",
      "37\n"
     ]
    }
   ],
   "source": [
    "print(data.shape[1])\n",
    "\n",
    "# Remove the string columns from the dataframe\n",
    "data = data.drop(num_ohc_cols.index, axis=1)\n",
    "\n",
    "print(data.shape[1])"
   ]
  },
  {
   "cell_type": "code",
   "execution_count": 244,
   "metadata": {},
   "outputs": [
    {
     "data": {
      "text/html": [
       "<div>\n",
       "<style scoped>\n",
       "    .dataframe tbody tr th:only-of-type {\n",
       "        vertical-align: middle;\n",
       "    }\n",
       "\n",
       "    .dataframe tbody tr th {\n",
       "        vertical-align: top;\n",
       "    }\n",
       "\n",
       "    .dataframe thead th {\n",
       "        text-align: right;\n",
       "    }\n",
       "</style>\n",
       "<table border=\"1\" class=\"dataframe\">\n",
       "  <thead>\n",
       "    <tr style=\"text-align: right;\">\n",
       "      <th></th>\n",
       "      <th>1stFlrSF</th>\n",
       "      <th>2ndFlrSF</th>\n",
       "      <th>3SsnPorch</th>\n",
       "      <th>BedroomAbvGr</th>\n",
       "      <th>BsmtFinSF1</th>\n",
       "      <th>BsmtFinSF2</th>\n",
       "      <th>BsmtFullBath</th>\n",
       "      <th>BsmtHalfBath</th>\n",
       "      <th>BsmtUnfSF</th>\n",
       "      <th>EnclosedPorch</th>\n",
       "      <th>...</th>\n",
       "      <th>OverallQual</th>\n",
       "      <th>PoolArea</th>\n",
       "      <th>ScreenPorch</th>\n",
       "      <th>TotRmsAbvGrd</th>\n",
       "      <th>TotalBsmtSF</th>\n",
       "      <th>WoodDeckSF</th>\n",
       "      <th>YearBuilt</th>\n",
       "      <th>YearRemodAdd</th>\n",
       "      <th>YrSold</th>\n",
       "      <th>SalePrice</th>\n",
       "    </tr>\n",
       "  </thead>\n",
       "  <tbody>\n",
       "    <tr>\n",
       "      <th>886</th>\n",
       "      <td>1200.0</td>\n",
       "      <td>0.0</td>\n",
       "      <td>0.0</td>\n",
       "      <td>2</td>\n",
       "      <td>833.0</td>\n",
       "      <td>0.0</td>\n",
       "      <td>1</td>\n",
       "      <td>0</td>\n",
       "      <td>343.0</td>\n",
       "      <td>0.0</td>\n",
       "      <td>...</td>\n",
       "      <td>7</td>\n",
       "      <td>0.0</td>\n",
       "      <td>0.0</td>\n",
       "      <td>5</td>\n",
       "      <td>1176.0</td>\n",
       "      <td>0.0</td>\n",
       "      <td>2003</td>\n",
       "      <td>2003</td>\n",
       "      <td>2009</td>\n",
       "      <td>184900.0</td>\n",
       "    </tr>\n",
       "    <tr>\n",
       "      <th>1307</th>\n",
       "      <td>698.0</td>\n",
       "      <td>560.0</td>\n",
       "      <td>0.0</td>\n",
       "      <td>2</td>\n",
       "      <td>204.0</td>\n",
       "      <td>0.0</td>\n",
       "      <td>0</td>\n",
       "      <td>0</td>\n",
       "      <td>356.0</td>\n",
       "      <td>0.0</td>\n",
       "      <td>...</td>\n",
       "      <td>6</td>\n",
       "      <td>0.0</td>\n",
       "      <td>0.0</td>\n",
       "      <td>6</td>\n",
       "      <td>560.0</td>\n",
       "      <td>0.0</td>\n",
       "      <td>1939</td>\n",
       "      <td>1950</td>\n",
       "      <td>2009</td>\n",
       "      <td>105000.0</td>\n",
       "    </tr>\n",
       "    <tr>\n",
       "      <th>557</th>\n",
       "      <td>816.0</td>\n",
       "      <td>0.0</td>\n",
       "      <td>0.0</td>\n",
       "      <td>2</td>\n",
       "      <td>816.0</td>\n",
       "      <td>0.0</td>\n",
       "      <td>1</td>\n",
       "      <td>0</td>\n",
       "      <td>0.0</td>\n",
       "      <td>0.0</td>\n",
       "      <td>...</td>\n",
       "      <td>5</td>\n",
       "      <td>0.0</td>\n",
       "      <td>0.0</td>\n",
       "      <td>4</td>\n",
       "      <td>816.0</td>\n",
       "      <td>0.0</td>\n",
       "      <td>1982</td>\n",
       "      <td>2003</td>\n",
       "      <td>2008</td>\n",
       "      <td>138000.0</td>\n",
       "    </tr>\n",
       "    <tr>\n",
       "      <th>536</th>\n",
       "      <td>1728.0</td>\n",
       "      <td>0.0</td>\n",
       "      <td>0.0</td>\n",
       "      <td>6</td>\n",
       "      <td>231.0</td>\n",
       "      <td>0.0</td>\n",
       "      <td>0</td>\n",
       "      <td>0</td>\n",
       "      <td>1497.0</td>\n",
       "      <td>0.0</td>\n",
       "      <td>...</td>\n",
       "      <td>5</td>\n",
       "      <td>0.0</td>\n",
       "      <td>0.0</td>\n",
       "      <td>10</td>\n",
       "      <td>1728.0</td>\n",
       "      <td>0.0</td>\n",
       "      <td>1965</td>\n",
       "      <td>1965</td>\n",
       "      <td>2008</td>\n",
       "      <td>142600.0</td>\n",
       "    </tr>\n",
       "    <tr>\n",
       "      <th>1071</th>\n",
       "      <td>916.0</td>\n",
       "      <td>684.0</td>\n",
       "      <td>0.0</td>\n",
       "      <td>3</td>\n",
       "      <td>0.0</td>\n",
       "      <td>0.0</td>\n",
       "      <td>0</td>\n",
       "      <td>0</td>\n",
       "      <td>916.0</td>\n",
       "      <td>0.0</td>\n",
       "      <td>...</td>\n",
       "      <td>6</td>\n",
       "      <td>0.0</td>\n",
       "      <td>0.0</td>\n",
       "      <td>7</td>\n",
       "      <td>916.0</td>\n",
       "      <td>100.0</td>\n",
       "      <td>1997</td>\n",
       "      <td>1997</td>\n",
       "      <td>2007</td>\n",
       "      <td>169000.0</td>\n",
       "    </tr>\n",
       "  </tbody>\n",
       "</table>\n",
       "<p>5 rows × 37 columns</p>\n",
       "</div>"
      ],
      "text/plain": [
       "      1stFlrSF  2ndFlrSF  3SsnPorch  BedroomAbvGr  BsmtFinSF1  BsmtFinSF2  \\\n",
       "886     1200.0       0.0        0.0             2       833.0         0.0   \n",
       "1307     698.0     560.0        0.0             2       204.0         0.0   \n",
       "557      816.0       0.0        0.0             2       816.0         0.0   \n",
       "536     1728.0       0.0        0.0             6       231.0         0.0   \n",
       "1071     916.0     684.0        0.0             3         0.0         0.0   \n",
       "\n",
       "      BsmtFullBath  BsmtHalfBath  BsmtUnfSF  EnclosedPorch    ...      \\\n",
       "886              1             0      343.0            0.0    ...       \n",
       "1307             0             0      356.0            0.0    ...       \n",
       "557              1             0        0.0            0.0    ...       \n",
       "536              0             0     1497.0            0.0    ...       \n",
       "1071             0             0      916.0            0.0    ...       \n",
       "\n",
       "      OverallQual  PoolArea  ScreenPorch  TotRmsAbvGrd  TotalBsmtSF  \\\n",
       "886             7       0.0          0.0             5       1176.0   \n",
       "1307            6       0.0          0.0             6        560.0   \n",
       "557             5       0.0          0.0             4        816.0   \n",
       "536             5       0.0          0.0            10       1728.0   \n",
       "1071            6       0.0          0.0             7        916.0   \n",
       "\n",
       "      WoodDeckSF  YearBuilt  YearRemodAdd  YrSold  SalePrice  \n",
       "886          0.0       2003          2003    2009   184900.0  \n",
       "1307         0.0       1939          1950    2009   105000.0  \n",
       "557          0.0       1982          2003    2008   138000.0  \n",
       "536          0.0       1965          1965    2008   142600.0  \n",
       "1071       100.0       1997          1997    2007   169000.0  \n",
       "\n",
       "[5 rows x 37 columns]"
      ]
     },
     "execution_count": 244,
     "metadata": {},
     "output_type": "execute_result"
    }
   ],
   "source": [
    "data.sample(5)"
   ]
  },
  {
   "cell_type": "code",
   "execution_count": 245,
   "metadata": {},
   "outputs": [
    {
     "data": {
      "text/html": [
       "<div>\n",
       "<style scoped>\n",
       "    .dataframe tbody tr th:only-of-type {\n",
       "        vertical-align: middle;\n",
       "    }\n",
       "\n",
       "    .dataframe tbody tr th {\n",
       "        vertical-align: top;\n",
       "    }\n",
       "\n",
       "    .dataframe thead th {\n",
       "        text-align: right;\n",
       "    }\n",
       "</style>\n",
       "<table border=\"1\" class=\"dataframe\">\n",
       "  <thead>\n",
       "    <tr style=\"text-align: right;\">\n",
       "      <th></th>\n",
       "      <th>1stFlrSF</th>\n",
       "      <th>2ndFlrSF</th>\n",
       "      <th>3SsnPorch</th>\n",
       "      <th>BedroomAbvGr</th>\n",
       "      <th>BsmtFinSF1</th>\n",
       "      <th>BsmtFinSF2</th>\n",
       "      <th>BsmtFullBath</th>\n",
       "      <th>BsmtHalfBath</th>\n",
       "      <th>BsmtUnfSF</th>\n",
       "      <th>EnclosedPorch</th>\n",
       "      <th>...</th>\n",
       "      <th>LandSlope_2</th>\n",
       "      <th>PavedDrive_0</th>\n",
       "      <th>PavedDrive_1</th>\n",
       "      <th>PavedDrive_2</th>\n",
       "      <th>CentralAir_0</th>\n",
       "      <th>CentralAir_1</th>\n",
       "      <th>Street_0</th>\n",
       "      <th>Street_1</th>\n",
       "      <th>Utilities_0</th>\n",
       "      <th>Utilities_1</th>\n",
       "    </tr>\n",
       "  </thead>\n",
       "  <tbody>\n",
       "    <tr>\n",
       "      <th>753</th>\n",
       "      <td>616.0</td>\n",
       "      <td>1072.0</td>\n",
       "      <td>0.0</td>\n",
       "      <td>4</td>\n",
       "      <td>462.0</td>\n",
       "      <td>0.0</td>\n",
       "      <td>1</td>\n",
       "      <td>0</td>\n",
       "      <td>154.0</td>\n",
       "      <td>185.0</td>\n",
       "      <td>...</td>\n",
       "      <td>0.0</td>\n",
       "      <td>0.0</td>\n",
       "      <td>0.0</td>\n",
       "      <td>1.0</td>\n",
       "      <td>0.0</td>\n",
       "      <td>1.0</td>\n",
       "      <td>0.0</td>\n",
       "      <td>1.0</td>\n",
       "      <td>1.0</td>\n",
       "      <td>0.0</td>\n",
       "    </tr>\n",
       "    <tr>\n",
       "      <th>727</th>\n",
       "      <td>912.0</td>\n",
       "      <td>0.0</td>\n",
       "      <td>0.0</td>\n",
       "      <td>2</td>\n",
       "      <td>456.0</td>\n",
       "      <td>0.0</td>\n",
       "      <td>0</td>\n",
       "      <td>0</td>\n",
       "      <td>456.0</td>\n",
       "      <td>0.0</td>\n",
       "      <td>...</td>\n",
       "      <td>0.0</td>\n",
       "      <td>0.0</td>\n",
       "      <td>0.0</td>\n",
       "      <td>1.0</td>\n",
       "      <td>0.0</td>\n",
       "      <td>1.0</td>\n",
       "      <td>0.0</td>\n",
       "      <td>1.0</td>\n",
       "      <td>1.0</td>\n",
       "      <td>0.0</td>\n",
       "    </tr>\n",
       "    <tr>\n",
       "      <th>1320</th>\n",
       "      <td>939.0</td>\n",
       "      <td>574.0</td>\n",
       "      <td>0.0</td>\n",
       "      <td>4</td>\n",
       "      <td>0.0</td>\n",
       "      <td>0.0</td>\n",
       "      <td>0</td>\n",
       "      <td>0</td>\n",
       "      <td>939.0</td>\n",
       "      <td>150.0</td>\n",
       "      <td>...</td>\n",
       "      <td>0.0</td>\n",
       "      <td>1.0</td>\n",
       "      <td>0.0</td>\n",
       "      <td>0.0</td>\n",
       "      <td>0.0</td>\n",
       "      <td>1.0</td>\n",
       "      <td>0.0</td>\n",
       "      <td>1.0</td>\n",
       "      <td>1.0</td>\n",
       "      <td>0.0</td>\n",
       "    </tr>\n",
       "    <tr>\n",
       "      <th>859</th>\n",
       "      <td>902.0</td>\n",
       "      <td>0.0</td>\n",
       "      <td>0.0</td>\n",
       "      <td>2</td>\n",
       "      <td>301.0</td>\n",
       "      <td>324.0</td>\n",
       "      <td>1</td>\n",
       "      <td>0</td>\n",
       "      <td>239.0</td>\n",
       "      <td>0.0</td>\n",
       "      <td>...</td>\n",
       "      <td>0.0</td>\n",
       "      <td>0.0</td>\n",
       "      <td>0.0</td>\n",
       "      <td>1.0</td>\n",
       "      <td>0.0</td>\n",
       "      <td>1.0</td>\n",
       "      <td>0.0</td>\n",
       "      <td>1.0</td>\n",
       "      <td>1.0</td>\n",
       "      <td>0.0</td>\n",
       "    </tr>\n",
       "    <tr>\n",
       "      <th>646</th>\n",
       "      <td>1419.0</td>\n",
       "      <td>0.0</td>\n",
       "      <td>0.0</td>\n",
       "      <td>2</td>\n",
       "      <td>945.0</td>\n",
       "      <td>0.0</td>\n",
       "      <td>1</td>\n",
       "      <td>0</td>\n",
       "      <td>474.0</td>\n",
       "      <td>0.0</td>\n",
       "      <td>...</td>\n",
       "      <td>0.0</td>\n",
       "      <td>0.0</td>\n",
       "      <td>0.0</td>\n",
       "      <td>1.0</td>\n",
       "      <td>0.0</td>\n",
       "      <td>1.0</td>\n",
       "      <td>0.0</td>\n",
       "      <td>1.0</td>\n",
       "      <td>1.0</td>\n",
       "      <td>0.0</td>\n",
       "    </tr>\n",
       "  </tbody>\n",
       "</table>\n",
       "<p>5 rows × 295 columns</p>\n",
       "</div>"
      ],
      "text/plain": [
       "      1stFlrSF  2ndFlrSF  3SsnPorch  BedroomAbvGr  BsmtFinSF1  BsmtFinSF2  \\\n",
       "753      616.0    1072.0        0.0             4       462.0         0.0   \n",
       "727      912.0       0.0        0.0             2       456.0         0.0   \n",
       "1320     939.0     574.0        0.0             4         0.0         0.0   \n",
       "859      902.0       0.0        0.0             2       301.0       324.0   \n",
       "646     1419.0       0.0        0.0             2       945.0         0.0   \n",
       "\n",
       "      BsmtFullBath  BsmtHalfBath  BsmtUnfSF  EnclosedPorch     ...       \\\n",
       "753              1             0      154.0          185.0     ...        \n",
       "727              0             0      456.0            0.0     ...        \n",
       "1320             0             0      939.0          150.0     ...        \n",
       "859              1             0      239.0            0.0     ...        \n",
       "646              1             0      474.0            0.0     ...        \n",
       "\n",
       "      LandSlope_2  PavedDrive_0  PavedDrive_1  PavedDrive_2  CentralAir_0  \\\n",
       "753           0.0           0.0           0.0           1.0           0.0   \n",
       "727           0.0           0.0           0.0           1.0           0.0   \n",
       "1320          0.0           1.0           0.0           0.0           0.0   \n",
       "859           0.0           0.0           0.0           1.0           0.0   \n",
       "646           0.0           0.0           0.0           1.0           0.0   \n",
       "\n",
       "      CentralAir_1  Street_0  Street_1  Utilities_0  Utilities_1  \n",
       "753            1.0       0.0       1.0          1.0          0.0  \n",
       "727            1.0       0.0       1.0          1.0          0.0  \n",
       "1320           1.0       0.0       1.0          1.0          0.0  \n",
       "859            1.0       0.0       1.0          1.0          0.0  \n",
       "646            1.0       0.0       1.0          1.0          0.0  \n",
       "\n",
       "[5 rows x 295 columns]"
      ]
     },
     "execution_count": 245,
     "metadata": {},
     "output_type": "execute_result"
    }
   ],
   "source": [
    "data_ohc.sample(5)"
   ]
  },
  {
   "cell_type": "markdown",
   "metadata": {
    "run_control": {
     "marked": true
    }
   },
   "source": [
    "## Question 4\n",
    "\n",
    "* Create train and test splits of both data sets. To ensure the data gets split the same way, use the same `random_state` in each of the two splits.\n",
    "* For each data set, fit a basic linear regression model on the training data. \n",
    "* Calculate the mean squared error on both the train and test sets for the respective models. Which model produces smaller error on the test data and why?"
   ]
  },
  {
   "cell_type": "code",
   "execution_count": 246,
   "metadata": {
    "run_control": {
     "marked": true
    }
   },
   "outputs": [],
   "source": [
    "from sklearn.model_selection import train_test_split\n",
    "\n",
    "y_col = 'SalePrice'\n",
    "\n",
    "# Split the data that is not one-hot encoded\n",
    "feature_cols = [x for x in data.columns if x != y_col]\n",
    "X_data = data[feature_cols]\n",
    "y_data = data[y_col]\n",
    "\n",
    "X_train, X_test, y_train, y_test = train_test_split(X_data, y_data, \n",
    "                                                    test_size=0.3, random_state=42)\n",
    "# Split the data that is one-hot encoded\n",
    "feature_cols = [x for x in data_ohc.columns if x != y_col]\n",
    "X_data_ohc = data_ohc[feature_cols]\n",
    "y_data_ohc = data_ohc[y_col]\n",
    "\n",
    "X_train_ohc, X_test_ohc, y_train_ohc, y_test_ohc = train_test_split(X_data_ohc, y_data_ohc, \n",
    "                                                    test_size=0.3, random_state=42)"
   ]
  },
  {
   "cell_type": "code",
   "execution_count": 247,
   "metadata": {
    "run_control": {
     "marked": true
    }
   },
   "outputs": [
    {
     "data": {
      "text/plain": [
       "True"
      ]
     },
     "execution_count": 247,
     "metadata": {},
     "output_type": "execute_result"
    }
   ],
   "source": [
    "# Compare the indices to ensure they are identical\n",
    "(X_train_ohc.index == X_train.index).all()"
   ]
  },
  {
   "cell_type": "code",
   "execution_count": 248,
   "metadata": {
    "run_control": {
     "marked": true
    }
   },
   "outputs": [
    {
     "data": {
      "text/html": [
       "<div>\n",
       "<style scoped>\n",
       "    .dataframe tbody tr th:only-of-type {\n",
       "        vertical-align: middle;\n",
       "    }\n",
       "\n",
       "    .dataframe tbody tr th {\n",
       "        vertical-align: top;\n",
       "    }\n",
       "\n",
       "    .dataframe thead th {\n",
       "        text-align: right;\n",
       "    }\n",
       "</style>\n",
       "<table border=\"1\" class=\"dataframe\">\n",
       "  <thead>\n",
       "    <tr style=\"text-align: right;\">\n",
       "      <th></th>\n",
       "      <th>no enc</th>\n",
       "      <th>one-hot enc</th>\n",
       "    </tr>\n",
       "  </thead>\n",
       "  <tbody>\n",
       "    <tr>\n",
       "      <th>test</th>\n",
       "      <td>1.372182e+09</td>\n",
       "      <td>5.859206e+15</td>\n",
       "    </tr>\n",
       "    <tr>\n",
       "      <th>train</th>\n",
       "      <td>1.131507e+09</td>\n",
       "      <td>3.177266e+08</td>\n",
       "    </tr>\n",
       "  </tbody>\n",
       "</table>\n",
       "</div>"
      ],
      "text/plain": [
       "             no enc   one-hot enc\n",
       "test   1.372182e+09  5.859206e+15\n",
       "train  1.131507e+09  3.177266e+08"
      ]
     },
     "execution_count": 248,
     "metadata": {},
     "output_type": "execute_result"
    }
   ],
   "source": [
    "from sklearn.linear_model import LinearRegression\n",
    "from sklearn.metrics import mean_squared_error\n",
    "\n",
    "LR = LinearRegression()\n",
    "\n",
    "# Storage for error values\n",
    "error_df = list()\n",
    "\n",
    "# Data that have not been one-hot encoded\n",
    "LR = LR.fit(X_train, y_train)\n",
    "y_train_pred = LR.predict(X_train)\n",
    "y_test_pred = LR.predict(X_test)\n",
    "\n",
    "error_df.append(pd.Series({'train': mean_squared_error(y_train, y_train_pred),\n",
    "                           'test' : mean_squared_error(y_test,  y_test_pred)},\n",
    "                           name='no enc'))\n",
    "\n",
    "# Data that have been one-hot encoded\n",
    "LR = LR.fit(X_train_ohc, y_train_ohc)\n",
    "y_train_ohc_pred = LR.predict(X_train_ohc)\n",
    "y_test_ohc_pred = LR.predict(X_test_ohc)\n",
    "\n",
    "error_df.append(pd.Series({'train': mean_squared_error(y_train_ohc, y_train_ohc_pred),\n",
    "                           'test' : mean_squared_error(y_test_ohc,  y_test_ohc_pred)},\n",
    "                          name='one-hot enc'))\n",
    "\n",
    "# Assemble the results\n",
    "error_df = pd.concat(error_df, axis=1)\n",
    "error_df"
   ]
  },
  {
   "cell_type": "markdown",
   "metadata": {
    "run_control": {
     "marked": true
    }
   },
   "source": [
    "Note that the error values on the one-hot encoded data are very different for the train and test data. In particular, the errors on the test data are much higher. Based on the lecture, this is because the one-hot encoded model is overfitting the data. We will learn how to deal with issues like this in the next lesson."
   ]
  },
  {
   "cell_type": "markdown",
   "metadata": {
    "run_control": {
     "marked": true
    }
   },
   "source": [
    "## Question 5\n",
    "\n",
    "For each of the data sets (one-hot encoded and not encoded):\n",
    "\n",
    "* Scale the all the non-hot encoded values using one of the following: `StandardScaler`, `MinMaxScaler`, `MaxAbsScaler`.\n",
    "* Compare the error calculated on the test sets\n",
    "\n",
    "Be sure to calculate the skew (to decide if a transformation should be done) and fit the scaler on *ONLY* the training data, but then apply it to both the train and test data identically."
   ]
  },
  {
   "cell_type": "code",
   "execution_count": 249,
   "metadata": {},
   "outputs": [],
   "source": [
    "# Mute the setting wtih a copy warnings\n",
    "pd.options.mode.chained_assignment = None"
   ]
  },
  {
   "cell_type": "code",
   "execution_count": 250,
   "metadata": {},
   "outputs": [
    {
     "name": "stdout",
     "output_type": "stream",
     "text": [
      "not_encoded - maxabsscaling          1.372149e+09\n",
      "not_encoded - minmaxscaling          1.372125e+09\n",
      "not_encoded - standardscaling        1.372182e+09\n",
      "one_hot_encoded - maxabsscaling      8.065328e+09\n",
      "one_hot_encoded - minmaxscaling      8.065328e+09\n",
      "one_hot_encoded - standardscaling    3.351165e+27\n",
      "--------------------------------------------------------------------------------\n",
      "not_encoded - maxabsscaling 1372149487.2910888\n",
      "not_encoded - minmaxscaling 1372125252.1234932\n",
      "not_encoded - standardscaling 1372182358.9344995\n",
      "one_hot_encoded - maxabsscaling 8065327607.323964\n",
      "one_hot_encoded - minmaxscaling 8065327607.30493\n",
      "one_hot_encoded - standardscaling 3.351165269312912e+27\n"
     ]
    }
   ],
   "source": [
    "from sklearn.preprocessing import StandardScaler, MinMaxScaler, MaxAbsScaler\n",
    "\n",
    "\n",
    "scalers = {'standard': StandardScaler(),\n",
    "           'minmax': MinMaxScaler(),\n",
    "           'maxabs': MaxAbsScaler()}\n",
    "\n",
    "training_test_sets = {\n",
    "    'not_encoded': (X_train, y_train, X_test, y_test),\n",
    "    'one_hot_encoded': (X_train_ohc, y_train_ohc, X_test_ohc, y_test_ohc)}\n",
    "\n",
    "\n",
    "# Get the list of float columns, and the float data\n",
    "# so that we don't scale something we already scaled. \n",
    "# We're supposed to scale the original data each time\n",
    "mask = X_train.dtypes == np.float\n",
    "float_columns = X_train.columns[mask]\n",
    "\n",
    "# initialize model\n",
    "LR = LinearRegression()\n",
    "\n",
    "# iterate over all possible combinations and get the errors\n",
    "errors = {}\n",
    "for encoding_label, (_X_train, _y_train, _X_test, _y_test) in training_test_sets.items():\n",
    "    for scaler_label, scaler in scalers.items():\n",
    "        trainingset = _X_train.copy()  # copy because we dont want to scale this more than once.\n",
    "        testset = _X_test.copy()\n",
    "        trainingset[float_columns] = scaler.fit_transform(trainingset[float_columns])\n",
    "        testset[float_columns] = scaler.transform(testset[float_columns])\n",
    "        LR.fit(trainingset, _y_train)\n",
    "        predictions = LR.predict(testset)\n",
    "        key = encoding_label + ' - ' + scaler_label + 'scaling'\n",
    "        errors[key] = mean_squared_error(_y_test, predictions)\n",
    "\n",
    "errors = pd.Series(errors)\n",
    "print(errors.to_string())\n",
    "print('-' * 80)\n",
    "for key, error_val in errors.items():\n",
    "    print(key, error_val)"
   ]
  },
  {
   "cell_type": "markdown",
   "metadata": {
    "run_control": {
     "marked": true
    }
   },
   "source": [
    "## Question 6\n",
    "\n",
    "Plot predictions vs actual for one of the models."
   ]
  },
  {
   "cell_type": "code",
   "execution_count": 251,
   "metadata": {
    "run_control": {
     "marked": true
    }
   },
   "outputs": [
    {
     "data": {
      "image/png": "[encoded data removed]",
      "text/plain": [
       "<matplotlib.figure.Figure at 0x7fef05aa4c50>"
      ]
     },
     "metadata": {},
     "output_type": "display_data"
    }
   ],
   "source": [
    "import matplotlib.pyplot as plt\n",
    "import seaborn as sns\n",
    "%matplotlib inline\n",
    "\n",
    "\n",
    "sns.set_context('talk')\n",
    "sns.set_style('ticks')\n",
    "sns.set_palette('dark')\n",
    "\n",
    "ax = plt.axes()\n",
    "# we are going to use y_test, y_test_pred\n",
    "ax.scatter(y_test, y_test_pred, alpha=.5)\n",
    "\n",
    "ax.set(xlabel='Ground truth', \n",
    "       ylabel='Predictions',\n",
    "       title='Ames, Iowa House Price Predictions vs Truth, using Linear Regression');"
   ]
  }
 ],
 "metadata": {
  "anaconda-cloud": {},
  "kernelspec": {
   "display_name": "Python 3",
   "language": "python",
   "name": "python3"
  },
  "language_info": {
   "codemirror_mode": {
    "name": "ipython",
    "version": 3
   },
   "file_extension": ".py",
   "mimetype": "text/x-python",
   "name": "python",
   "nbconvert_exporter": "python",
   "pygments_lexer": "ipython3",
   "version": "3.5.2"
  },
  "name": "Train_Test_Splits_Regularization_Exercises-ANSWERS",
  "notebookId": 2125319687183944
 },
 "nbformat": 4,
 "nbformat_minor": 1
}
